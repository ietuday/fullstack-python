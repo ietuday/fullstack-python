{
 "cells": [
  {
   "cell_type": "markdown",
   "metadata": {},
   "source": [
    "# Evaluating Model Results\n",
    "\n",
    "How do we decide if a model is doing a good at predicting outcomes? We use various metrics to evaluate its performance. Again, I focus on binary classifiers. Multi-label classifiers and regression may call for different procedures).\n",
    "\n",
    "Let's first recall our lookup algorithm, split data into training and test data, and see how it does on test data."
   ]
  },
  {
   "cell_type": "code",
   "execution_count": 1,
   "metadata": {
    "collapsed": true
   },
   "outputs": [],
   "source": [
    "import pandas as pd\n",
    "from pandas import DataFrame\n",
    "from sklearn.model_selection import train_test_split"
   ]
  },
  {
   "cell_type": "code",
   "execution_count": 2,
   "metadata": {
    "collapsed": true
   },
   "outputs": [],
   "source": [
    "titanic = pd.read_csv(\"titanic.csv\")\n",
    "titanic_train, titanic_test = train_test_split(titanic, test_size=0.1)\n",
    "\n",
    "def table_lookup_predictor(x, table, age):\n",
    "    \"\"\"Implements the table-lookup algorithm with ages after cufoff\"\"\"\n",
    "    \n",
    "    # Get most common label\n",
    "    default = table.Survived.value_counts().argmax()\n",
    "    # Get similar individuals\n",
    "    similar_tab = table.loc[(table[\"Pclass\"] == x[\"Pclass\"]) &\\\n",
    "                            (table[\"Sex\"] == x[\"Sex\"]) &\\\n",
    "                            (table[\"Siblings/Spouses Aboard\"] == x[\"Siblings/Spouses Aboard\"]) &\\\n",
    "                            (table[\"Parents/Children Aboard\"] == x[\"Parents/Children Aboard\"]) &\\\n",
    "                            ((table[\"Age\"] < age) == (x[\"Age\"] < age)) , \"Survived\"]\n",
    "    if len(similar_tab) == 0:\n",
    "        # If table is empty (no \"similar\" individuals), guess the most common label\n",
    "        return default\n",
    "    else:\n",
    "        return similar_tab.value_counts().argmax()\n",
    "\n",
    "actual = titanic_test.Survived\n",
    "predicted = titanic_test.apply(table_lookup_predictor, 1, table=titanic_train, age=10)"
   ]
  },
  {
   "cell_type": "code",
   "execution_count": 3,
   "metadata": {
    "scrolled": false
   },
   "outputs": [
    {
     "data": {
      "text/html": [
       "<div>\n",
       "<style>\n",
       "    .dataframe thead tr:only-child th {\n",
       "        text-align: right;\n",
       "    }\n",
       "\n",
       "    .dataframe thead th {\n",
       "        text-align: left;\n",
       "    }\n",
       "\n",
       "    .dataframe tbody tr th {\n",
       "        vertical-align: top;\n",
       "    }\n",
       "</style>\n",
       "<table border=\"1\" class=\"dataframe\">\n",
       "  <thead>\n",
       "    <tr style=\"text-align: right;\">\n",
       "      <th></th>\n",
       "      <th>actual</th>\n",
       "      <th>predicted</th>\n",
       "    </tr>\n",
       "  </thead>\n",
       "  <tbody>\n",
       "    <tr>\n",
       "      <th>417</th>\n",
       "      <td>0</td>\n",
       "      <td>1</td>\n",
       "    </tr>\n",
       "    <tr>\n",
       "      <th>364</th>\n",
       "      <td>1</td>\n",
       "      <td>1</td>\n",
       "    </tr>\n",
       "    <tr>\n",
       "      <th>656</th>\n",
       "      <td>0</td>\n",
       "      <td>1</td>\n",
       "    </tr>\n",
       "    <tr>\n",
       "      <th>652</th>\n",
       "      <td>0</td>\n",
       "      <td>0</td>\n",
       "    </tr>\n",
       "    <tr>\n",
       "      <th>229</th>\n",
       "      <td>1</td>\n",
       "      <td>1</td>\n",
       "    </tr>\n",
       "    <tr>\n",
       "      <th>822</th>\n",
       "      <td>0</td>\n",
       "      <td>0</td>\n",
       "    </tr>\n",
       "    <tr>\n",
       "      <th>730</th>\n",
       "      <td>0</td>\n",
       "      <td>0</td>\n",
       "    </tr>\n",
       "    <tr>\n",
       "      <th>160</th>\n",
       "      <td>1</td>\n",
       "      <td>1</td>\n",
       "    </tr>\n",
       "    <tr>\n",
       "      <th>294</th>\n",
       "      <td>0</td>\n",
       "      <td>0</td>\n",
       "    </tr>\n",
       "    <tr>\n",
       "      <th>351</th>\n",
       "      <td>0</td>\n",
       "      <td>0</td>\n",
       "    </tr>\n",
       "    <tr>\n",
       "      <th>74</th>\n",
       "      <td>0</td>\n",
       "      <td>0</td>\n",
       "    </tr>\n",
       "    <tr>\n",
       "      <th>537</th>\n",
       "      <td>1</td>\n",
       "      <td>1</td>\n",
       "    </tr>\n",
       "    <tr>\n",
       "      <th>779</th>\n",
       "      <td>0</td>\n",
       "      <td>0</td>\n",
       "    </tr>\n",
       "    <tr>\n",
       "      <th>219</th>\n",
       "      <td>1</td>\n",
       "      <td>0</td>\n",
       "    </tr>\n",
       "    <tr>\n",
       "      <th>824</th>\n",
       "      <td>1</td>\n",
       "      <td>0</td>\n",
       "    </tr>\n",
       "    <tr>\n",
       "      <th>322</th>\n",
       "      <td>0</td>\n",
       "      <td>0</td>\n",
       "    </tr>\n",
       "    <tr>\n",
       "      <th>642</th>\n",
       "      <td>1</td>\n",
       "      <td>0</td>\n",
       "    </tr>\n",
       "    <tr>\n",
       "      <th>818</th>\n",
       "      <td>0</td>\n",
       "      <td>0</td>\n",
       "    </tr>\n",
       "    <tr>\n",
       "      <th>201</th>\n",
       "      <td>0</td>\n",
       "      <td>0</td>\n",
       "    </tr>\n",
       "    <tr>\n",
       "      <th>752</th>\n",
       "      <td>0</td>\n",
       "      <td>0</td>\n",
       "    </tr>\n",
       "    <tr>\n",
       "      <th>328</th>\n",
       "      <td>1</td>\n",
       "      <td>0</td>\n",
       "    </tr>\n",
       "    <tr>\n",
       "      <th>377</th>\n",
       "      <td>0</td>\n",
       "      <td>0</td>\n",
       "    </tr>\n",
       "    <tr>\n",
       "      <th>131</th>\n",
       "      <td>0</td>\n",
       "      <td>1</td>\n",
       "    </tr>\n",
       "    <tr>\n",
       "      <th>880</th>\n",
       "      <td>0</td>\n",
       "      <td>0</td>\n",
       "    </tr>\n",
       "    <tr>\n",
       "      <th>90</th>\n",
       "      <td>0</td>\n",
       "      <td>0</td>\n",
       "    </tr>\n",
       "    <tr>\n",
       "      <th>431</th>\n",
       "      <td>0</td>\n",
       "      <td>0</td>\n",
       "    </tr>\n",
       "    <tr>\n",
       "      <th>227</th>\n",
       "      <td>0</td>\n",
       "      <td>0</td>\n",
       "    </tr>\n",
       "    <tr>\n",
       "      <th>796</th>\n",
       "      <td>0</td>\n",
       "      <td>0</td>\n",
       "    </tr>\n",
       "    <tr>\n",
       "      <th>746</th>\n",
       "      <td>1</td>\n",
       "      <td>1</td>\n",
       "    </tr>\n",
       "    <tr>\n",
       "      <th>19</th>\n",
       "      <td>1</td>\n",
       "      <td>1</td>\n",
       "    </tr>\n",
       "    <tr>\n",
       "      <th>...</th>\n",
       "      <td>...</td>\n",
       "      <td>...</td>\n",
       "    </tr>\n",
       "    <tr>\n",
       "      <th>577</th>\n",
       "      <td>1</td>\n",
       "      <td>1</td>\n",
       "    </tr>\n",
       "    <tr>\n",
       "      <th>117</th>\n",
       "      <td>0</td>\n",
       "      <td>0</td>\n",
       "    </tr>\n",
       "    <tr>\n",
       "      <th>855</th>\n",
       "      <td>0</td>\n",
       "      <td>0</td>\n",
       "    </tr>\n",
       "    <tr>\n",
       "      <th>755</th>\n",
       "      <td>1</td>\n",
       "      <td>1</td>\n",
       "    </tr>\n",
       "    <tr>\n",
       "      <th>526</th>\n",
       "      <td>0</td>\n",
       "      <td>0</td>\n",
       "    </tr>\n",
       "    <tr>\n",
       "      <th>681</th>\n",
       "      <td>0</td>\n",
       "      <td>0</td>\n",
       "    </tr>\n",
       "    <tr>\n",
       "      <th>399</th>\n",
       "      <td>0</td>\n",
       "      <td>0</td>\n",
       "    </tr>\n",
       "    <tr>\n",
       "      <th>370</th>\n",
       "      <td>0</td>\n",
       "      <td>0</td>\n",
       "    </tr>\n",
       "    <tr>\n",
       "      <th>633</th>\n",
       "      <td>0</td>\n",
       "      <td>0</td>\n",
       "    </tr>\n",
       "    <tr>\n",
       "      <th>854</th>\n",
       "      <td>1</td>\n",
       "      <td>0</td>\n",
       "    </tr>\n",
       "    <tr>\n",
       "      <th>465</th>\n",
       "      <td>0</td>\n",
       "      <td>0</td>\n",
       "    </tr>\n",
       "    <tr>\n",
       "      <th>266</th>\n",
       "      <td>1</td>\n",
       "      <td>1</td>\n",
       "    </tr>\n",
       "    <tr>\n",
       "      <th>301</th>\n",
       "      <td>1</td>\n",
       "      <td>1</td>\n",
       "    </tr>\n",
       "    <tr>\n",
       "      <th>124</th>\n",
       "      <td>1</td>\n",
       "      <td>0</td>\n",
       "    </tr>\n",
       "    <tr>\n",
       "      <th>365</th>\n",
       "      <td>1</td>\n",
       "      <td>1</td>\n",
       "    </tr>\n",
       "    <tr>\n",
       "      <th>368</th>\n",
       "      <td>1</td>\n",
       "      <td>0</td>\n",
       "    </tr>\n",
       "    <tr>\n",
       "      <th>792</th>\n",
       "      <td>1</td>\n",
       "      <td>1</td>\n",
       "    </tr>\n",
       "    <tr>\n",
       "      <th>799</th>\n",
       "      <td>1</td>\n",
       "      <td>1</td>\n",
       "    </tr>\n",
       "    <tr>\n",
       "      <th>615</th>\n",
       "      <td>1</td>\n",
       "      <td>0</td>\n",
       "    </tr>\n",
       "    <tr>\n",
       "      <th>497</th>\n",
       "      <td>0</td>\n",
       "      <td>0</td>\n",
       "    </tr>\n",
       "    <tr>\n",
       "      <th>560</th>\n",
       "      <td>0</td>\n",
       "      <td>0</td>\n",
       "    </tr>\n",
       "    <tr>\n",
       "      <th>416</th>\n",
       "      <td>0</td>\n",
       "      <td>0</td>\n",
       "    </tr>\n",
       "    <tr>\n",
       "      <th>251</th>\n",
       "      <td>0</td>\n",
       "      <td>0</td>\n",
       "    </tr>\n",
       "    <tr>\n",
       "      <th>26</th>\n",
       "      <td>0</td>\n",
       "      <td>0</td>\n",
       "    </tr>\n",
       "    <tr>\n",
       "      <th>66</th>\n",
       "      <td>0</td>\n",
       "      <td>0</td>\n",
       "    </tr>\n",
       "    <tr>\n",
       "      <th>409</th>\n",
       "      <td>0</td>\n",
       "      <td>0</td>\n",
       "    </tr>\n",
       "    <tr>\n",
       "      <th>754</th>\n",
       "      <td>0</td>\n",
       "      <td>0</td>\n",
       "    </tr>\n",
       "    <tr>\n",
       "      <th>176</th>\n",
       "      <td>0</td>\n",
       "      <td>1</td>\n",
       "    </tr>\n",
       "    <tr>\n",
       "      <th>319</th>\n",
       "      <td>0</td>\n",
       "      <td>0</td>\n",
       "    </tr>\n",
       "    <tr>\n",
       "      <th>147</th>\n",
       "      <td>0</td>\n",
       "      <td>0</td>\n",
       "    </tr>\n",
       "  </tbody>\n",
       "</table>\n",
       "<p>89 rows × 2 columns</p>\n",
       "</div>"
      ],
      "text/plain": [
       "     actual  predicted\n",
       "417       0          1\n",
       "364       1          1\n",
       "656       0          1\n",
       "652       0          0\n",
       "229       1          1\n",
       "822       0          0\n",
       "730       0          0\n",
       "160       1          1\n",
       "294       0          0\n",
       "351       0          0\n",
       "74        0          0\n",
       "537       1          1\n",
       "779       0          0\n",
       "219       1          0\n",
       "824       1          0\n",
       "322       0          0\n",
       "642       1          0\n",
       "818       0          0\n",
       "201       0          0\n",
       "752       0          0\n",
       "328       1          0\n",
       "377       0          0\n",
       "131       0          1\n",
       "880       0          0\n",
       "90        0          0\n",
       "431       0          0\n",
       "227       0          0\n",
       "796       0          0\n",
       "746       1          1\n",
       "19        1          1\n",
       "..      ...        ...\n",
       "577       1          1\n",
       "117       0          0\n",
       "855       0          0\n",
       "755       1          1\n",
       "526       0          0\n",
       "681       0          0\n",
       "399       0          0\n",
       "370       0          0\n",
       "633       0          0\n",
       "854       1          0\n",
       "465       0          0\n",
       "266       1          1\n",
       "301       1          1\n",
       "124       1          0\n",
       "365       1          1\n",
       "368       1          0\n",
       "792       1          1\n",
       "799       1          1\n",
       "615       1          0\n",
       "497       0          0\n",
       "560       0          0\n",
       "416       0          0\n",
       "251       0          0\n",
       "26        0          0\n",
       "66        0          0\n",
       "409       0          0\n",
       "754       0          0\n",
       "176       0          1\n",
       "319       0          0\n",
       "147       0          0\n",
       "\n",
       "[89 rows x 2 columns]"
      ]
     },
     "execution_count": 3,
     "metadata": {},
     "output_type": "execute_result"
    }
   ],
   "source": [
    "DataFrame({\"actual\": actual, \"predicted\": predicted})"
   ]
  },
  {
   "cell_type": "markdown",
   "metadata": {},
   "source": [
    "## Accuracy\n",
    "\n",
    "An obvious metric to check is the algorithm's accuracy on the test set. We've already seen how to compute this."
   ]
  },
  {
   "cell_type": "code",
   "execution_count": 4,
   "metadata": {
    "collapsed": true
   },
   "outputs": [],
   "source": [
    "from sklearn.metrics import accuracy_score"
   ]
  },
  {
   "cell_type": "code",
   "execution_count": 5,
   "metadata": {},
   "outputs": [
    {
     "data": {
      "text/plain": [
       "0.797752808988764"
      ]
     },
     "execution_count": 5,
     "metadata": {},
     "output_type": "execute_result"
    }
   ],
   "source": [
    "accuracy_score(y_true=actual, y_pred=predicted)"
   ]
  },
  {
   "cell_type": "markdown",
   "metadata": {},
   "source": [
    "Accuracy alone does not give a complete picture of how well an algorithm is doing when making predictions. It's possible that the learning problem is \"easy\". For example, if nearly everyone on the *Titanic* died, always predicting \"did not survive\" would have high accuracy, yet incorrectly predicts that every survivor died.\n",
    "\n",
    "## Precision\n",
    "\n",
    "**Precision** describes how often the model correctly predicts a given label. For example, the table lookup algorithm would have high precision for survivors if every time it predicts a passenger would be a survivor, the passenger is in fact a survivor.\n",
    "\n",
    "`precision_score()` from **sklearn** computes precision."
   ]
  },
  {
   "cell_type": "code",
   "execution_count": 6,
   "metadata": {
    "collapsed": true
   },
   "outputs": [],
   "source": [
    "from sklearn.metrics import precision_score"
   ]
  },
  {
   "cell_type": "code",
   "execution_count": 7,
   "metadata": {},
   "outputs": [
    {
     "data": {
      "text/plain": [
       "0.76000000000000001"
      ]
     },
     "execution_count": 7,
     "metadata": {},
     "output_type": "execute_result"
    }
   ],
   "source": [
    "precision_score(y_true=actual, y_pred=predicted)"
   ]
  },
  {
   "cell_type": "markdown",
   "metadata": {},
   "source": [
    "There is a precision score for every possible label. In particular, there is a precision score for both survivorship and death."
   ]
  },
  {
   "cell_type": "code",
   "execution_count": 8,
   "metadata": {},
   "outputs": [
    {
     "data": {
      "text/plain": [
       "0.8125"
      ]
     },
     "execution_count": 8,
     "metadata": {},
     "output_type": "execute_result"
    }
   ],
   "source": [
    "precision_score(y_true=actual, y_pred=predicted, pos_label=0)"
   ]
  },
  {
   "cell_type": "markdown",
   "metadata": {},
   "source": [
    "It seems that predictions of death are more precise than prediction of survival.\n",
    "\n",
    "## Recall\n",
    "\n",
    "**Recall** is the ability of the model to correctly predict *a particular outcome*. In this example, recall is how many *Titanic* survivors were predicted by the model as being survivors. We would prefer recall to be close to 1.\n",
    "\n",
    "`recall_score()` from **sklearn** computes recall."
   ]
  },
  {
   "cell_type": "code",
   "execution_count": 9,
   "metadata": {
    "collapsed": true
   },
   "outputs": [],
   "source": [
    "from sklearn.metrics import recall_score"
   ]
  },
  {
   "cell_type": "code",
   "execution_count": 10,
   "metadata": {},
   "outputs": [
    {
     "data": {
      "text/plain": [
       "0.61290322580645162"
      ]
     },
     "execution_count": 10,
     "metadata": {},
     "output_type": "execute_result"
    }
   ],
   "source": [
    "recall_score(y_true=actual, y_pred=predicted)"
   ]
  },
  {
   "cell_type": "markdown",
   "metadata": {},
   "source": [
    "Only half of surviors were correctly predicted by our model to be survivors.\n",
    "\n",
    "Recall depends on the label of interest. For example, here's the recall rate for those who did not survive the *Titanic* disaster."
   ]
  },
  {
   "cell_type": "code",
   "execution_count": 11,
   "metadata": {},
   "outputs": [
    {
     "data": {
      "text/plain": [
       "0.89655172413793105"
      ]
     },
     "execution_count": 11,
     "metadata": {},
     "output_type": "execute_result"
    }
   ],
   "source": [
    "recall_score(y_true=actual, y_pred=predicted, pos_label=0)"
   ]
  },
  {
   "cell_type": "markdown",
   "metadata": {},
   "source": [
    "We see that our algorithm does a good job at predicting deaths but a mediocre job at predicting survivors.\n",
    "\n",
    "## F1 Score\n",
    "\n",
    "The **F1 score** attempts to balance precision and recall in a single number; let $i$ be a label:\n",
    "\n",
    "$$\\text{F1}(i) = \\frac{\\text{precision}(i) \\times \\text{recall}(i)}{\\text{precision}(i) + \\text{recall}(i)}$$\n",
    "\n",
    "A score close to 1 is desirable, and a score close to 0 indicates an overall subpar model.\n",
    "\n",
    "`f1_score()` from **sklearn** computes this metric."
   ]
  },
  {
   "cell_type": "code",
   "execution_count": 12,
   "metadata": {
    "collapsed": true
   },
   "outputs": [],
   "source": [
    "from sklearn.metrics import f1_score"
   ]
  },
  {
   "cell_type": "code",
   "execution_count": 13,
   "metadata": {},
   "outputs": [
    {
     "data": {
      "text/plain": [
       "0.67857142857142849"
      ]
     },
     "execution_count": 13,
     "metadata": {},
     "output_type": "execute_result"
    }
   ],
   "source": [
    "f1_score(y_true=actual, y_pred=predicted)"
   ]
  },
  {
   "cell_type": "code",
   "execution_count": 14,
   "metadata": {},
   "outputs": [
    {
     "data": {
      "text/plain": [
       "0.85245901639344257"
      ]
     },
     "execution_count": 14,
     "metadata": {},
     "output_type": "execute_result"
    }
   ],
   "source": [
    "# Again, depends on the label of interest\n",
    "f1_score(y_true=actual, y_pred=predicted, pos_label=0)"
   ]
  },
  {
   "cell_type": "markdown",
   "metadata": {},
   "source": [
    "All of the metrics mentioned so far can be computed together in a nice bundle by the **sklearn** function `classification_report()`"
   ]
  },
  {
   "cell_type": "code",
   "execution_count": 15,
   "metadata": {
    "collapsed": true
   },
   "outputs": [],
   "source": [
    "from sklearn.metrics  import classification_report"
   ]
  },
  {
   "cell_type": "code",
   "execution_count": 16,
   "metadata": {},
   "outputs": [
    {
     "name": "stdout",
     "output_type": "stream",
     "text": [
      "             precision    recall  f1-score   support\n",
      "\n",
      "          0       0.81      0.90      0.85        58\n",
      "          1       0.76      0.61      0.68        31\n",
      "\n",
      "avg / total       0.79      0.80      0.79        89\n",
      "\n"
     ]
    }
   ],
   "source": [
    "print(classification_report(y_true=actual, y_pred=predicted))"
   ]
  },
  {
   "cell_type": "markdown",
   "metadata": {},
   "source": [
    "## Bayes Factor\n",
    "\n",
    "A **Bayes factor** is a metric to determine which of two models better fits a dataset. We can compute a Bayes factor to determine if our algorithm is doing a better job of predicting survivorship compared to a \"dumb\" predictor that predicts the most common label. (Computing the Bayes factor can also help decide between models in the modelling phase, though we're seeing it here presumably after modelling has been completed and a predictive algorithm is nearing deployment.)\n",
    "\n",
    "Recall Bayes' Theorem:\n",
    "\n",
    "$$P(M|D) = \\frac{P(D|M)P(M)}{P(D)}$$\n",
    "\n",
    "$P(M|D)$ is roughly interpreted as the probability the model $M$ is appropriate given a dataset $D$. Let $M_1$ and $M_2$ be two competing models. The Bayes factor is then:\n",
    "\n",
    "$$K = \\frac{P(D|M_1)}{P(D|M_2)} = \\frac{P(M_1|D)}{P(M_2|D)}\\frac{P(M_2)}{P(M_1)}$$\n",
    "\n",
    "Recall that $P(M_i)$ is the prior likelihood the model $M_i$ is appropriate.\n",
    "\n",
    "Let's make this concrete. $M_1$ will denote the event that our table lookup algorithm does better than the \"naive\" algorithm, while $M_2$ is the event the \"naive\" algorithm is better than our algorithm. If $p_1$ and $p_2$ denotes the accuracy of the two algorithms, $M_1$ corresponds to $p_1 > p_2$ while $M_2$ corresponds to $p_1 < p_2$.\n",
    "\n",
    "We will use conjugate priors, assume that $p_1$ and $p_2$ are independent under the prior distribution, and both parameters follow the $\\text{Beta}(3,3)$ distribution. It can be shown that under these conditions $P(M_1) = P(M_2) = \\frac{1}{2}$ (this is not true in general); in other words, $M_1$ and $M_2$ are equally likely.\n",
    "\n",
    "We then compute the parameters of the posterior distributions of $p_1$ and $p_2$. I denote a correct prediction as a \"success\". We then need the number of \"successes\" in the test set."
   ]
  },
  {
   "cell_type": "code",
   "execution_count": 17,
   "metadata": {},
   "outputs": [
    {
     "data": {
      "text/plain": [
       "(71, 89)"
      ]
     },
     "execution_count": 17,
     "metadata": {},
     "output_type": "execute_result"
    }
   ],
   "source": [
    "N = len(actual)    # Total sample size\n",
    "M = (actual == predicted).sum()    # A shorthand for computing the number of \"successes\n",
    "(M, N)"
   ]
  },
  {
   "cell_type": "code",
   "execution_count": 18,
   "metadata": {},
   "outputs": [
    {
     "data": {
      "text/plain": [
       "(74, 21)"
      ]
     },
     "execution_count": 18,
     "metadata": {},
     "output_type": "execute_result"
    }
   ],
   "source": [
    "post_params_lookup = (3 + M, 3 + N - M)\n",
    "post_params_lookup"
   ]
  },
  {
   "cell_type": "code",
   "execution_count": 19,
   "metadata": {},
   "outputs": [
    {
     "data": {
      "text/plain": [
       "0    58\n",
       "1    31\n",
       "Name: Survived, dtype: int64"
      ]
     },
     "execution_count": 19,
     "metadata": {},
     "output_type": "execute_result"
    }
   ],
   "source": [
    "ds = pd.Series(actual).value_counts()\n",
    "ds"
   ]
  },
  {
   "cell_type": "code",
   "execution_count": 20,
   "metadata": {},
   "outputs": [
    {
     "data": {
      "text/plain": [
       "(61, 34)"
      ]
     },
     "execution_count": 20,
     "metadata": {},
     "output_type": "execute_result"
    }
   ],
   "source": [
    "post_params_naive = (3 + ds[0], 3 + ds[1])\n",
    "post_params_naive"
   ]
  },
  {
   "cell_type": "markdown",
   "metadata": {},
   "source": [
    "We can use the simulation trick seen in a previous section to estimate $P(M_1|D) = 1 - P(M_2|D)$."
   ]
  },
  {
   "cell_type": "code",
   "execution_count": 21,
   "metadata": {
    "collapsed": true
   },
   "outputs": [],
   "source": [
    "from scipy.stats import beta"
   ]
  },
  {
   "cell_type": "code",
   "execution_count": 22,
   "metadata": {},
   "outputs": [
    {
     "data": {
      "text/plain": [
       "(0.68769999999999998, 0.31230000000000002)"
      ]
     },
     "execution_count": 22,
     "metadata": {},
     "output_type": "execute_result"
    }
   ],
   "source": [
    "N = 10000    # Number of simulations\n",
    "p_1 = beta.rvs(67, 28, size=N)\n",
    "p_2 = beta.rvs(64, 31, size=N)\n",
    "trial = p_1 > p_2\n",
    "\n",
    "pm1 = trial.mean()\n",
    "pm2 = 1 - pm1\n",
    "(pm1, pm2)"
   ]
  },
  {
   "cell_type": "markdown",
   "metadata": {},
   "source": [
    "Now compute the Bayes factor. Notice that $P(M_1) = P(M_2)$ so $\\frac{P(M_2)}{P(M_1)} = 1$ and $K = \\frac{P(M_1|D)}{P(M_2|D)}$."
   ]
  },
  {
   "cell_type": "code",
   "execution_count": 23,
   "metadata": {},
   "outputs": [
    {
     "data": {
      "text/plain": [
       "2.202049311559398"
      ]
     },
     "execution_count": 23,
     "metadata": {},
     "output_type": "execute_result"
    }
   ],
   "source": [
    "K = pm1 / pm2\n",
    "K"
   ]
  },
  {
   "cell_type": "markdown",
   "metadata": {},
   "source": [
    "What do we make of this number? We can use the Jeffreys' Scale to give meaning to $K$:\n",
    "\n",
    "|                  $K$                | Strength of Evidence |\n",
    "|-------------------------------------|----------------------|\n",
    "|                 $< 1$               |  Evidence for $M_2$  |\n",
    "|  $1$ to $10^{1/2}$ ($\\approx 3.2$)  |       Negligible     |\n",
    "|         $10^{1/2}$ to $10$          |     Substantial      |\n",
    "| $10$ to $10^{3/2}$ ($\\approx 31.6$) |        Strong        |\n",
    "|         $10^{3/2}$ to $100$         |     Very strong      |\n",
    "|              $> 100$                |      Decisive        |\n",
    "\n",
    "Our $K$ falls into the \"negligible\" range. Our algorithm seems to do barely better than the naive algorithm at predicting who survived the Titanic, but is not worth the computational effort.\n",
    "\n",
    "In the next section we will see potentially better algorithms that hopefully will have better performance."
   ]
  }
 ],
 "metadata": {
  "kernelspec": {
   "display_name": "Python 3",
   "language": "python",
   "name": "python3"
  },
  "language_info": {
   "codemirror_mode": {
    "name": "ipython",
    "version": 3
   },
   "file_extension": ".py",
   "mimetype": "text/x-python",
   "name": "python",
   "nbconvert_exporter": "python",
   "pygments_lexer": "ipython3",
   "version": "3.6.3"
  }
 },
 "nbformat": 4,
 "nbformat_minor": 2
}
